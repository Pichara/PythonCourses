{
 "cells": [
  {
   "cell_type": "code",
   "execution_count": 32,
   "metadata": {},
   "outputs": [
    {
     "name": "stdout",
     "output_type": "stream",
     "text": [
      "Parabens pra voce\n",
      "Nesta data querida :)\n",
      "Muitas felicidades\n",
      "Muitos anos de vida\n",
      "Feliz Aniversario Rodrigo :)\n"
     ]
    }
   ],
   "source": [
    "def parabens(x):\n",
    "    print(\"Parabens pra voce\\nNesta data querida:)\\nMuitas felicidades\\nMuitos anos de vida\\nFeliz Aniversario {} :)\".format(x))\n",
    "parabens(\"Rodrigo\")"
   ]
  },
  {
   "cell_type": "code",
   "execution_count": 58,
   "metadata": {},
   "outputs": [
    {
     "name": "stdout",
     "output_type": "stream",
     "text": [
      "Digite uma frase: Banana\n",
      "Essa frase não possui a letra u\n"
     ]
    }
   ],
   "source": [
    "def temletrau():\n",
    "    Frase = input(\"Digite uma frase: \")\n",
    "    if \"u\" in Frase:\n",
    "        print(\"Esse frase possui a letra u\")\n",
    "    else:\n",
    "        print(\"Essa frase não possui a letra u\")\n",
    "temletrau()"
   ]
  },
  {
   "cell_type": "code",
   "execution_count": 60,
   "metadata": {},
   "outputs": [
    {
     "name": "stdout",
     "output_type": "stream",
     "text": [
      "Digite uma frase: banana\n",
      "Escolha uma letra naqual queira procurar na frase acima: a\n",
      "A letra  a  foi encontrada na frase!\n"
     ]
    }
   ],
   "source": [
    "def verificadorletral():\n",
    "    frase = input(\"Digite uma frase: \")\n",
    "    x = input(\"Escolha uma letra naqual queira procurar na frase acima: \")\n",
    "    if x in frase:\n",
    "        print(\"A letra \",x,\" foi encontrada na frase!\")\n",
    "    else:\n",
    "        print(\"A letra \",x,\" não foi encontrada na frase!\")\n",
    "verificadorletral()"
   ]
  },
  {
   "cell_type": "code",
   "execution_count": 1,
   "metadata": {},
   "outputs": [
    {
     "name": "stdout",
     "output_type": "stream",
     "text": [
      "Digite uma frase: oi\n",
      "A letra  a  não foi encontrada na frase!\n"
     ]
    }
   ],
   "source": [
    "def verificadorletral(x):\n",
    "    frase = input(\"Digite uma frase: \")                         #Tanto a de cima quanto a de baixo funcionam da mesma maneira :)\n",
    "    if x in frase:\n",
    "        print(\"A letra \",x,\" foi encontrada na frase!\")\n",
    "    else:\n",
    "        print(\"A letra \",x,\" não foi encontrada na frase!\")\n",
    "verificadorletral(\"a\")"
   ]
  },
  {
   "cell_type": "code",
   "execution_count": 65,
   "metadata": {},
   "outputs": [
    {
     "data": {
      "text/plain": [
       "436"
      ]
     },
     "execution_count": 65,
     "metadata": {},
     "output_type": "execute_result"
    }
   ],
   "source": [
    "def somaQuadrados(a,b):\n",
    "    SomaQ = a**2 + b**2\n",
    "    return SomaQ\n",
    "somaQuadrados(6,20)"
   ]
  }
 ],
 "metadata": {
  "kernelspec": {
   "display_name": "Python 3",
   "language": "python",
   "name": "python3"
  },
  "language_info": {
   "codemirror_mode": {
    "name": "ipython",
    "version": 3
   },
   "file_extension": ".py",
   "mimetype": "text/x-python",
   "name": "python",
   "nbconvert_exporter": "python",
   "pygments_lexer": "ipython3",
   "version": "3.8.5"
  }
 },
 "nbformat": 4,
 "nbformat_minor": 4
}
