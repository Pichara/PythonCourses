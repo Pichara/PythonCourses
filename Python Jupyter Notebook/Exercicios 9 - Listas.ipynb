{
 "cells": [
  {
   "cell_type": "code",
   "execution_count": 1,
   "metadata": {},
   "outputs": [
    {
     "name": "stdout",
     "output_type": "stream",
     "text": [
      "159\n",
      "7\n",
      "['Banana', 'Potato', 'Thunder', 'Mochila', 'Fernanda', 'Potato', 'Macaco'] \n",
      "\n",
      "2\n",
      "['Just Cause', 'Harry Poter', 'Brief History', 'Banana', 'Banana', 'Arcane'] \n",
      "\n",
      "12\n",
      "341.57\n",
      "797.67\n",
      "[12, 12.7, 84, 97.2, 123, 127.2, 341.57]\n"
     ]
    }
   ],
   "source": [
    "lista = [\"Peixe\", \"Potato\", \"159\", \"Thunder\", \"Mochila\", \"Fernanda\", \"Potato\"]\n",
    "print(lista[2])\n",
    "print(len(lista))\n",
    "lista.append(\"Macaco\") #Adiciona na lista(No final)\n",
    "lista.remove(\"Peixe\") #Tira baseado no nome\n",
    "lista.insert(0, \"Banana\") #Remove de um especifico\n",
    "lista.pop(2) #Tira um de um especifico\n",
    "print(lista, \"\\n\")\n",
    "\n",
    "\n",
    "Livros = [\"Harry Poter\", \"Arcane\", \"Brief History\", \"Just Cause\", \"Banana\",\"Banana\"]\n",
    "print(Livros.count(\"Banana\")) #Conta quantos elementos especificos\n",
    "Livros.sort() # Organiza em forma alfabetica ou crescente\n",
    "Livros.reverse() #Reverte a ordem da lista\n",
    "print(Livros, \"\\n\")\n",
    "\n",
    "\n",
    "Num = [12, 12.7, 123, 127.2, 84, 97.2, 341.57]\n",
    "print(min(Num))\n",
    "print(max(Num))\n",
    "print(sum(Num))\n",
    "Num.sort()\n",
    "print(Num)\n"
   ]
  },
  {
   "cell_type": "code",
   "execution_count": 2,
   "metadata": {},
   "outputs": [
    {
     "name": "stdout",
     "output_type": "stream",
     "text": [
      "['Ola', 'Ola', 'Isso dai', 'Vamo ve', 'sera que deu bom']\n",
      "[]\n"
     ]
    }
   ],
   "source": [
    "#fail\n",
    "data = []\n",
    "graphics = []\n",
    "while True:     \n",
    "    y = input(\"Digete algo para colocar no sistema:  \")\n",
    "    if y != \"!\":\n",
    "        if y == \"-\":\n",
    "            graphics.append(data)\n",
    "            continuar = input(\"Deseja processeguir armazenando informação no grafico? S/N\").upper()\n",
    "            if continuar != \"S\":\n",
    "                break       \n",
    "        data.append(y)        \n",
    "    else:\n",
    "        break\n",
    "print(data)\n",
    "print(graphics)\n",
    "\n",
    "!"
   ]
  },
  {
   "cell_type": "code",
   "execution_count": null,
   "metadata": {},
   "outputs": [],
   "source": [
    "Tropa = [[\"Rodrigo\", \"17\", \"Strogonoff\"],[\"Fernanda\", 15, \"Brownie\"],[\"Dimitri\", 16, \"Bolo de Abacaxi\"],[\"Gabriel\", 17,\"sushi\"]]\n",
    "Name = 0\n",
    "Age = 1\n",
    "Food = 2\n",
    "print(Tropa[0][Name])\n",
    "print(Tropa[1][Age])\n",
    "print(Tropa[2][Food])"
   ]
  },
  {
   "cell_type": "code",
   "execution_count": 4,
   "metadata": {},
   "outputs": [
    {
     "name": "stdout",
     "output_type": "stream",
     "text": [
      "======================================================\n",
      "\n",
      "              Verificador de Expressões\n",
      "\n",
      "======================================================\n",
      "Digite a expressão:Eai rapaziada\n",
      "Eai rapaziada\n",
      "A expressão acima é valida!\n",
      "======================================================\n",
      "\n",
      "              Verificador de Expressões\n",
      "\n",
      "======================================================\n",
      "Digite a expressão: 9+1-8*15\n",
      "['9+1-8*15']\n",
      "9+1-8*15\n"
     ]
    }
   ],
   "source": [
    "# Um programa que verifique se uma expressão possui os devidos paragrafos nos corretos lugares\n",
    "#Without a lista\n",
    "print(\"=\"*54)\n",
    "print(\"\\n              Verificador de Expressões\\n\")\n",
    "print(\"=\"*54)\n",
    "ex = input(\"Digite a expressão:\")\n",
    "print(ex)\n",
    "b = ex.count(\"(\")\n",
    "a = ex.count(\")\")\n",
    "if a == b:\n",
    "    print(\"A expressão acima é valida!\")\n",
    "else:\n",
    "    print(\"A expressão acima não é valida!\")\n",
    "#With a lista\n",
    "print(\"=\"*54)\n",
    "print(\"\\n              Verificador de Expressões\\n\")\n",
    "print(\"=\"*54)\n",
    "lista = []\n",
    "ex = str(input(\"Digite a expressão: \"))\n",
    "lista.append(ex)\n",
    "print(lista)\n",
    "print(lista[0])\n"
   ]
  },
  {
   "cell_type": "code",
   "execution_count": 2,
   "metadata": {},
   "outputs": [
    {
     "name": "stdout",
     "output_type": "stream",
     "text": [
      "Digite um valor para a posição 0:  1\n",
      "Digite um valor para a posição 1:  3\n",
      "Digite um valor para a posição 2:  8\n",
      "Digite um valor para a posição 3:  9\n",
      "Digite um valor para a posição 4:  10\n",
      "O menor valor digitado foi 1 na posição 0 ...\n",
      "O maior valor digitado foi 10 na posição 4 ...\n"
     ]
    }
   ],
   "source": [
    "#Um programa que leia 5 valores dentro de uma lista e mostre o maior e menor numero em suas respectivas posições\n",
    "\n",
    "Valores = [int(input(\"Digite um valor para a posição 0:  \")), int(input(\"Digite um valor para a posição 1:  \")), \n",
    "         int(input(\"Digite um valor para a posição 2:  \")), int(input(\"Digite um valor para a posição 3:  \")),\n",
    "         int(input(\"Digite um valor para a posição 4:  \"))]\n",
    "a = min(Valores)\n",
    "b = max(Valores)\n",
    "print(f\"O menor valor digitado foi {a} na posição\", end = \" \")\n",
    "if a == Valores[0]:\n",
    "    print(0,\"...\")\n",
    "elif a == Valores[1]:\n",
    "    print(1,\"...\")\n",
    "elif a == Valores[2]:\n",
    "    print(2,\"...\")\n",
    "elif a == Valores[3]:\n",
    "    print(3,\"...\")\n",
    "elif a == Valores[4]:\n",
    "    print(4,\"...\")\n",
    "print(f\"O maior valor digitado foi {b} na posição\", end = \" \")\n",
    "if b == Valores[0]:\n",
    "    print(0,\"...\")\n",
    "elif b == Valores[1]:\n",
    "    print(1,\"...\")\n",
    "elif b == Valores[2]:\n",
    "    print(2,\"...\")\n",
    "elif b == Valores[3]:\n",
    "    print(3,\"...\")\n",
    "elif b == Valores[4]:\n",
    "    print(4,\"...\")"
   ]
  },
  {
   "cell_type": "code",
   "execution_count": 7,
   "metadata": {},
   "outputs": [
    {
     "name": "stdout",
     "output_type": "stream",
     "text": [
      "Digite um Valor: 1\n",
      "Valor adicionado com sucesso...\n",
      "Quer continuar? [S/N] s\n",
      "Digite um Valor: 10\n",
      "Valor adicionado com sucesso...\n",
      "Quer continuar? [S/N] s\n",
      "Digite um Valor: 7\n",
      "Valor adicionado com sucesso...\n",
      "Quer continuar? [S/N] s\n",
      "Digite um Valor: 2\n",
      "Valor adicionado com sucesso...\n",
      "Quer continuar? [S/N] s\n",
      "Digite um Valor: 18\n",
      "Valor adicionado com sucesso...\n",
      "Quer continuar? [S/N] s\n",
      "Digite um Valor: 3\n",
      "Valor adicionado com sucesso...\n",
      "Quer continuar? [S/N] s\n",
      "Digite um Valor: 2\n",
      "Valor dublicado! Não adicionarei...\n",
      "Quer continuar? [S/N] n\n",
      "=-=-=-=-=-=-=-=-=-=-=-=-=-=-=-=-=-=-=-=- \n",
      "\n",
      "Você digitou os valores ['1', '10', '18', '2', '3', '7']\n"
     ]
    }
   ],
   "source": [
    "#Um programa que leia varios valores diferentes e adicione em uma lista, if repetido, não adicionar\n",
    "x = [ ]\n",
    "while True:\n",
    "    a = input(\"Digite um Valor: \")\n",
    "    if a not in x:\n",
    "        x.append(a)\n",
    "        print(\"Valor adicionado com sucesso...\")\n",
    "    else:\n",
    "        print(\"Valor dublicado! Não adicionarei...\")\n",
    "    b = (input(\"Quer continuar? [S/N] \").upper())\n",
    "    if b == \"S\" or \"N\":\n",
    "        if b == \"S\":\n",
    "            continue\n",
    "        else:\n",
    "            break\n",
    "x.sort()\n",
    "print(\"=-\"*20,\"\\n\")\n",
    "print(f\"Você digitou os valores {x}\")\n",
    "        \n",
    "    "
   ]
  },
  {
   "cell_type": "code",
   "execution_count": 4,
   "metadata": {
    "scrolled": false
   },
   "outputs": [
    {
     "name": "stdout",
     "output_type": "stream",
     "text": [
      "Digite um numero: 7\n",
      "Quer continuar? [S/N]: s\n",
      "Digite um numero: 9\n",
      "Quer continuar? [S/N]: s\n",
      "Digite um numero: 1\n",
      "Quer continuar? [S/N]: s\n",
      "Digite um numero: 10\n",
      "Quer continuar? [S/N]: s\n",
      "Digite um numero: 8\n",
      "Quer continuar? [S/N]: n\n",
      "=-=-=-=-=-=-=-=-=-=-=-=-=-=-=-=-=-=-=-=-\n",
      "Lista Normal: [7, 9, 1, 10, 8]\n",
      "Lista Par: [8, 10]\n",
      "ListaImpar: [7, 9, 1]\n"
     ]
    }
   ],
   "source": [
    "#A program that will imput some numbers, and than create more 2 lists to separete the numbers in Inpar or Par\n",
    "a = []\n",
    "par = []\n",
    "impar = []\n",
    "while True:\n",
    "    a.append(int(input(\"Digite um numero: \")))\n",
    "    sn = (input(\"Quer continuar? [S/N]: \").upper())\n",
    "    if sn == \"N\":\n",
    "        break\n",
    "x = len(a)\n",
    "for i in range(x):\n",
    "    if a[i-1]%2 == 0:\n",
    "        par.append(a[i-1])\n",
    "    else:\n",
    "        impar.append(a[i-1])\n",
    "print(\"=-\"*20)\n",
    "print(f\"Lista Normal: {a}\\nLista Par: {par}\\nListaImpar: {impar}\")\n",
    "        \n",
    "        "
   ]
  },
  {
   "cell_type": "code",
   "execution_count": 42,
   "metadata": {},
   "outputs": [
    {
     "name": "stdout",
     "output_type": "stream",
     "text": [
      "What do you wanna do?[input/output/list?/stop]:  dawdawdaw\n",
      "We just input or output informations from sistem, if you wanna change it,\n",
      "                  be a coding guy and white again the program of the sistem ;)\n",
      "What do you wanna do?[input/output/list?/stop]:  stop\n"
     ]
    }
   ],
   "source": [
    "#A sistem that will return the informations about the person that you are serching about in the inputing\n",
    "from time import sleep\n",
    "datas = [\"Name\", \"Rank\", \"Lvl\"]\n",
    "dados = [[\"Noratus\", \"Platina\", 512],[\"Pichara\", \"Diamond\", 572]]\n",
    "while True:\n",
    "    f_ask = str(input(\"What do you wanna do?[input/output/list?/stop]:  \")) #Starting the program\n",
    "    if f_ask == \"stop\":\n",
    "        break\n",
    "    while True:\n",
    "        if f_ask == \"input\": #Input in the sistem a information\n",
    "            inputing_data = []\n",
    "            for i in range(len(datas)):\n",
    "                inputing_data.append(input(f\"What {datas[i]}: \"))\n",
    "            dados.append(inputing_data)\n",
    "            #Buildind the Afirmative and the negative possible strutures\n",
    "            no = [\"Nope\", \"No\", \"N\", \"nah\", \"não\", \"nan\"]\n",
    "            yes= [\"Yeah\", \"Yes\", \"Yea\", \"Yeaguer\", \"Y\", \"Sim\", \"S\"]\n",
    "            def infinite_string(x):\n",
    "                for i in range(len(x)):\n",
    "                    x.append(x[i].lower())\n",
    "                    x.append(x[i].upper())\n",
    "                    x.append(x[i].capitalize())\n",
    "            infinite_string(no)\n",
    "            infinite_string(yes)\n",
    "            exit1 = input(\"Input more?\")\n",
    "            if exit1 in yes:\n",
    "                continue\n",
    "            elif exit1 in no:\n",
    "                break\n",
    "            else:\n",
    "                print(\"what?\")\n",
    "                sleep(5)\n",
    "        \n",
    "        elif f_ask == \"output\": #Give to the reader a information\n",
    "            outputing = str(input(\"What guy/acount do you wanna know the informations:  \"))\n",
    "            #A system that find a name in a big list\n",
    "            def serching_name(x,y):\n",
    "                for i in range(len(x)):\n",
    "                    if y == x[i][0]:\n",
    "                        return i\n",
    "                return \"not founded\"       \n",
    "            r_outputing = serching_name(dados, outputing)\n",
    "            if r_outputing == 'not founded':\n",
    "                print(r_outputing)\n",
    "            else:\n",
    "                print(f\"\"\"This guy have the follows data >>>\n",
    "                Account:{dados[r_outputing][0]}\n",
    "                Rank:{dados[r_outputing][1]}\n",
    "                Lvl:{dados[r_outputing][2]}\"\"\")\n",
    "                break\n",
    "\n",
    "        elif f_ask == \"list?\": #print the data\n",
    "            print(dados)\n",
    "            break\n",
    "\n",
    "        else:  #Just playing with the funning guys :)\n",
    "            print(\"\"\"We just input or output informations from sistem, if you wanna change it,\n",
    "                  be a coding guy and white again the program of the sistem ;)\"\"\") \n",
    "            sleep(7)\n",
    "            break"
   ]
  },
  {
   "cell_type": "code",
   "execution_count": 3,
   "metadata": {},
   "outputs": [
    {
     "name": "stdout",
     "output_type": "stream",
     "text": [
      "=====Incript.System=====Pichara.Cipher=====\n",
      "give us what do you want to incript and a key\n",
      "\"It's an improvement on the caesar cipher :)\" \n",
      "Key:2\n",
      "Incripting:  Eae negão, valorante é pika\n",
      "Gcg pgiq xcnqtcpvg  rkmc"
     ]
    }
   ],
   "source": [
    "#A scripting system that will change the letter 2 places in front and make an encrypted word :)\n",
    "from time import sleep\n",
    "alfab = [' ','a', 'b', 'c', 'd', 'e', 'f', 'g', 'h', 'i', 'j', 'k', 'l', 'm', 'n', 'o', 'p', 'q', 'r', 's', 't', 'u', 'v', 'w',\n",
    "         'x', 'y', 'z','a','b','c', 'd', 'e', 'f', 'g', 'h', 'i', 'j', 'k', 'l', 'm', 'n', 'o', 'p', 'q', 'r', 's', 't', 'u',\n",
    "         'v', 'w','x', 'y', 'z', 'A', 'B', 'C', 'D', 'E', 'F', 'G', 'H', 'I', 'J', 'K', 'L', 'M', 'N', 'O', 'P', 'Q', 'R', 'S',\n",
    "         'T', 'U', 'V', 'W', 'X', 'Y', 'Z', 'A', 'B', 'C', 'D', 'E', 'F', 'G', 'H', 'I', 'J', 'K', 'L', 'M', 'N', 'O', 'P', 'Q',\n",
    "         'R', 'S','T', 'U', 'V', 'W', 'X', 'Y', 'Z']\n",
    "scripting = []\n",
    "#transcripting the word in a list of the number of the alfabetic\n",
    "print(\"\"\"=====Incript.System=====Pichara.Cipher=====\n",
    "give us what do you want to incript and a key\n",
    "\"It's an improvement on the caesar cipher :)\" \"\"\")\n",
    "sleep(4)\n",
    "key = int(input(\"Key:\"))\n",
    "inc = str(input(\"Incripting:  \"))\n",
    "for x in range(len(inc)):\n",
    "    for i in range(len(alfab)-1):\n",
    "        if inc[x] == \" \":\n",
    "            scripting.append(0)\n",
    "            break\n",
    "        elif inc[x] == alfab[i]:\n",
    "            scripting.append(i+key)\n",
    "            break\n",
    "            \n",
    "#transcripting the list in letters again, but incripted\n",
    "for y in range(len(scripting)):\n",
    "    transcript = (f\"{alfab[scripting[y]]}\")\n",
    "    print(transcript, end=\"\")\n",
    "    \n"
   ]
  },
  {
   "cell_type": "code",
   "execution_count": 19,
   "metadata": {},
   "outputs": [
    {
     "name": "stdout",
     "output_type": "stream",
     "text": [
      "numbers: 9\n",
      "numbers: 8\n",
      "numbers: 7\n",
      "numbers: 4\n",
      "numbers: 21\n",
      "numbers: 81231\n",
      "numbers: 29\n",
      "Os numeros foram divididos desta forma:\n",
      "[[4, 8], [7, 9, 21, 29, 81231]]\n"
     ]
    }
   ],
   "source": [
    "#Uma lista que possua duas listas, uma par, uma impar, sendo todos valores numericos em ordem crescente\n",
    "pnumbers = []\n",
    "par = []\n",
    "impar = []\n",
    "for i in range(7):\n",
    "    number = int(input(\"numbers: \"))\n",
    "    if number%2 == 0:\n",
    "        par.append(number)\n",
    "    else:\n",
    "        impar.append(number)\n",
    "par.sort()\n",
    "impar.sort()\n",
    "pnumbers.append(par[:])\n",
    "pnumbers.append(impar[:])\n",
    "print(f\"Os numeros foram divididos desta forma:\\n{pnumbers}\")\n",
    "    \n",
    "    "
   ]
  },
  {
   "cell_type": "code",
   "execution_count": 1,
   "metadata": {},
   "outputs": [
    {
     "name": "stdout",
     "output_type": "stream",
     "text": [
      "Digite um valor para [0,0]1\n",
      "Digite um valor para [0,1]2\n",
      "Digite um valor para [0,2]3\n",
      "Digite um valor para [1,0]4\n",
      "Digite um valor para [1,1]5\n",
      "Digite um valor para [1,2]6\n",
      "Digite um valor para [2,0]7\n",
      "Digite um valor para [2,1]8\n",
      "Digite um valor para [2,2]9\n",
      "+=+=+=+=+=+=+=+=+=+=+=+=+=\n",
      "The matrix will be...\n",
      "[ 1 ] [ 2 ] [ 3 ]\n",
      "[ 4 ] [ 5 ] [ 6 ]\n",
      "[ 7 ] [ 8 ] [ 9 ]\n"
     ]
    }
   ],
   "source": [
    "#A program that show a matrix 3x3 that has been inputed some numbers\n",
    "x = y = 0\n",
    "n = []\n",
    "for i in range(9):\n",
    "    n.append(int(input(f\"Digite um valor para [{x},{y}]\")))\n",
    "    if y <= 2:\n",
    "        y += 1\n",
    "        if y == 3:\n",
    "            y = 0\n",
    "            if x <= 2:\n",
    "                x += 1\n",
    "                if x == 3:\n",
    "                    x = 0\n",
    "print(\"+=\"*13)\n",
    "print(\"The matrix will be...\")\n",
    "print(f\"\"\"[ {n[0]} ] [ {n[1]} ] [ {n[2]} ]\n",
    "[ {n[3]} ] [ {n[4]} ] [ {n[5]} ]\n",
    "[ {n[6]} ] [ {n[7]} ] [ {n[8]} ]\"\"\")\n",
    "        "
   ]
  },
  {
   "cell_type": "code",
   "execution_count": 2,
   "metadata": {},
   "outputs": [
    {
     "name": "stdout",
     "output_type": "stream",
     "text": [
      "==========================================\n",
      "             Game Of MegaSena             \n",
      "We give your numbers and you just aply :)\n",
      "==========================================\n",
      "How many games wanna you make??10\n",
      "The 1ª game was == [61, 16, 1, 24, 27, 12]\n",
      "The 2ª game was == [4, 35, 6, 8, 11, 61]\n",
      "The 3ª game was == [20, 50, 52, 17, 51, 18]\n",
      "The 4ª game was == [61, 30, 32, 55, 22, 37]\n",
      "The 5ª game was == [17, 28, 21, 7, 35, 20]\n",
      "The 6ª game was == [60, 41, 10, 7, 50, 5]\n",
      "The 7ª game was == [21, 61, 27, 57, 43, 29]\n",
      "The 8ª game was == [40, 43, 41, 58, 59, 18]\n",
      "The 9ª game was == [29, 2, 44, 11, 36, 14]\n",
      "The 10ª game was == [20, 60, 54, 14, 35, 46]\n"
     ]
    }
   ],
   "source": [
    "#A program that will randon \"n\" games of MegaSena each one with 6 numbers in 1 to 60\n",
    "import random\n",
    "from time import sleep\n",
    "numbers = []\n",
    "games = []\n",
    "print(\"=\"*42)\n",
    "print(\"             Game Of MegaSena             \")\n",
    "print(\"We give your numbers and you just aply :)\")\n",
    "print(\"=\"*42)\n",
    "n = int(input(\"How many games wanna you make??\"))\n",
    "sleep(0.5)\n",
    "for i in range(n):\n",
    "    for z in range(6):\n",
    "        x = random.randint(1,61)\n",
    "        if x in numbers:\n",
    "            while x in numbers:\n",
    "                x = random.randint(1,61)\n",
    "            numbers.append(x)\n",
    "        else:\n",
    "            numbers.append(x)\n",
    "    games.append(numbers[:])\n",
    "    numbers.clear()\n",
    "for w in range(n):\n",
    "    print(f\"The {w+1}ª game was == {games[w]}\")\n",
    "    sleep(1)"
   ]
  },
  {
   "cell_type": "code",
   "execution_count": 26,
   "metadata": {},
   "outputs": [
    {
     "name": "stdout",
     "output_type": "stream",
     "text": [
      "===========================================================\n",
      "We will show you how muck money you'll have with some datas\n",
      "===========================================================\n",
      "How much deposits in the investiment you'll do? (Month) 48\n",
      "How much is this bank's fee? (%) 50\n",
      "How much deposit will you make? ($) 10000\n",
      "With a fee of 50.0%, in 48 months applying R$10000, you will be with: 2833873334282.67\n"
     ]
    }
   ],
   "source": [
    "#A program that will calculate for the user How much money you\"ll have with a sequence of deposites in a investiment with fees\n",
    "from time import sleep\n",
    "print(\"=\"*59)\n",
    "print(\"We will show you how muck money you'll have with some datas\")\n",
    "print(\"=\"*59)\n",
    "sleep(2)\n",
    "n = int(input(\"How much deposits in the investiment you'll do? (Month) \"))\n",
    "I = float(input(\"How much is this bank's fee? (%) \"))\n",
    "i = I/100\n",
    "D = int(input(\"How much deposit will you make? ($) \"))\n",
    "V = D * (1+i)**n - 1/ i\n",
    "print(f\"With a fee of {I}%, in {n} months applying R${D}, you will be with: {V:.2f}\")"
   ]
  },
  {
   "cell_type": "code",
   "execution_count": 4,
   "metadata": {},
   "outputs": [
    {
     "name": "stdout",
     "output_type": "stream",
     "text": [
      "=============================================\n",
      "PROGRAMING SCHOOL SYSTEM - GRADES OF STUDENTS\n",
      "=============================================\n",
      "Please, type the Name and the grades...\n",
      "\n",
      "=============================================\n",
      "1ª Student\n",
      "Name: Rodrigo\n",
      "Nota 1:1\n",
      "Nota 2:2\n",
      "Nota 3:3\n",
      "Continue? [S/N]S\n",
      "=============================================\n",
      "2ª Student\n",
      "Name: Helena\n",
      "Nota 1:1\n",
      "Nota 2:2\n",
      "Nota 3:3\n",
      "Continue? [S/N]S\n",
      "=============================================\n",
      "3ª Student\n",
      "Name: João\n",
      "Nota 1:2\n",
      "Nota 2:5\n",
      "Nota 3:10\n",
      "Continue? [S/N]N\n",
      "=============================================\n",
      "-=-=-=-=-=-=-=-=-=-=-=-=-=-=-=-=-=-=-=-=-=-=-=-=-=-=\n",
      "No. Student        GPA \n",
      "-----------------------------------\n",
      "\n",
      "1   Rodrigo        0.8\n",
      "\n",
      "2   Helena         0.8\n",
      "\n",
      "3   João           2.3\n",
      "Mostrar notas de qual aluno(No.): [0 stop] 0\n",
      "Closing the sistem...\n",
      "Volte sempre :)\n"
     ]
    }
   ],
   "source": [
    "#A Systen that will input the grades of the students, then show us the media of the GPA of each guy\n",
    "from time import sleep\n",
    "contagem = 1\n",
    "Data = []\n",
    "Students = []\n",
    "Grades = []\n",
    "print(\"\"\"=============================================\n",
    "PROGRAMING SCHOOL SYSTEM - GRADES OF STUDENTS\n",
    "=============================================\"\"\")\n",
    "sleep(2)\n",
    "print(\"Please, type the Name and the grades...\\n\")\n",
    "sleep(0.7)\n",
    "while True:\n",
    "    #Cleaning the lists\n",
    "    Grades.clear()\n",
    "    Students.clear()\n",
    "    #Collecting the data...\n",
    "    print(\"=\"*45)\n",
    "    print(f\"{contagem}ª Student\")\n",
    "    contagem += 1\n",
    "    Students.append(input(\"Name: \"))\n",
    "    for i in range(3):\n",
    "        Grades.append(int(input(f\"Nota {i+1}:\")))\n",
    "    Students.append(Grades[:])\n",
    "    Data.append(Students[:])\n",
    "    keepi = input(\"Continue? [S/N]\")\n",
    "    if keepi == \"N\":\n",
    "        print(\"=\"*45)\n",
    "        break\n",
    "    else:\n",
    "        continue\n",
    "\n",
    "#Just a def to apply the data and return a gpa\n",
    "def gpa_calculate(x):\n",
    "    gpa = ((Data[x][1][0] + Data[x][1][1] + Data[x][1][2])/3)*4/10\n",
    "    return gpa\n",
    "\n",
    "sleep(1)\n",
    "print(\"-=\"*26)\n",
    "print(f'{\"No.\":<4}{\"Student\":<8}{\"GPA\":>10} \\n-----------------------------------')\n",
    "for i in range(len(Data)):\n",
    "    GPA = gpa_calculate(i)\n",
    "    print(f\"\\n{i+1:<4}{Data[i][0]:<8}{GPA:>10.1f}\")\n",
    "while True:\n",
    "    show_grade = int(input(\"Mostrar notas de qual aluno(No.): [0 stop] \"))\n",
    "    if show_grade == 0:\n",
    "        break\n",
    "    else:\n",
    "        print(f\"The grades of the student {Data[show_grade - 1][0]} foram: {Data[show_grade-1][1]}\")\n",
    "sleep(1)\n",
    "print(\"Closing the sistem...\")\n",
    "sleep(1.7)\n",
    "print(\"Volte sempre :)\")"
   ]
  },
  {
   "cell_type": "code",
   "execution_count": null,
   "metadata": {},
   "outputs": [],
   "source": []
  }
 ],
 "metadata": {
  "kernelspec": {
   "display_name": "Python 3",
   "language": "python",
   "name": "python3"
  },
  "language_info": {
   "codemirror_mode": {
    "name": "ipython",
    "version": 3
   },
   "file_extension": ".py",
   "mimetype": "text/x-python",
   "name": "python",
   "nbconvert_exporter": "python",
   "pygments_lexer": "ipython3",
   "version": "3.11.3"
  }
 },
 "nbformat": 4,
 "nbformat_minor": 4
}
