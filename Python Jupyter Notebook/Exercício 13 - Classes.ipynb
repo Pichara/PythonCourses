{
 "cells": [
  {
   "cell_type": "code",
   "execution_count": 1,
   "metadata": {},
   "outputs": [
    {
     "name": "stdout",
     "output_type": "stream",
     "text": [
      "Nissan GT-R 2007\n",
      "Eu tenho um GT-R da Nissan de 2007\n",
      "80000\n",
      "O preço do veiculo aparentemente era 80000, entretanto agora é 40000\n",
      "40000\n",
      "40000\n",
      "O preço do veiculo aparentemente era 40000, entretanto agora é 40000\n",
      "40000\n",
      "40000\n",
      "O preço do veiculo aparentemente era 40000, entretanto agora é 100000\n",
      "100000\n",
      "100000\n",
      "O preço do veiculo aparentemente era 100000, entretanto agora é 200\n",
      "200\n",
      "200\n",
      "O preço do veiculo aparentemente era 200, entretanto agora é 1000\n",
      "1000\n"
     ]
    }
   ],
   "source": [
    "#Create a class car having more than 3 parameters and 3 metodos(funcitons([using parametes])\n",
    "from time import sleep\n",
    "\n",
    "class Car():\n",
    "    def __init__(self, marca, modelo, ano, preço):\n",
    "        self.marca = marca\n",
    "        self.modelo = modelo\n",
    "        self.ano = ano\n",
    "        self.preço = int(preço)\n",
    "    \n",
    "    def tipo(self):\n",
    "        print(self.marca, self.modelo, self.ano)\n",
    "    \n",
    "    def qual_carro_você_tem(self):\n",
    "        print(f\"Eu tenho um {self.modelo} da {self.marca} de {self.ano}\")\n",
    "    \n",
    "    def q_preço(self):\n",
    "            print(self.preço)\n",
    "    sleep(0.5)\n",
    "    \n",
    "    def preço_mudar(self):\n",
    "        new_price = int(input(\"Qual é o true preço do veiculo?\"))\n",
    "        print(f\"O preço do veiculo aparentemente era {self.preço}, entretanto agora é {new_price}\")\n",
    "        self.preço = new_price\n",
    "\n",
    "\n",
    "Carro1 = Car(\"Nissan\", \"GT-R\", \"2007\", 80000)\n",
    "Carro1.tipo()\n",
    "Carro1.qual_carro_você_tem()\n",
    "for i in range(5):\n",
    "    Carro1.q_preço()\n",
    "    Carro1.preço_mudar()\n",
    "    Carro1.q_preço()\n",
    "            \n",
    "\n"
   ]
  },
  {
   "cell_type": "code",
   "execution_count": null,
   "metadata": {},
   "outputs": [],
   "source": []
  }
 ],
 "metadata": {
  "kernelspec": {
   "display_name": "Python 3",
   "language": "python",
   "name": "python3"
  },
  "language_info": {
   "codemirror_mode": {
    "name": "ipython",
    "version": 3
   },
   "file_extension": ".py",
   "mimetype": "text/x-python",
   "name": "python",
   "nbconvert_exporter": "python",
   "pygments_lexer": "ipython3",
   "version": "3.11.3"
  }
 },
 "nbformat": 4,
 "nbformat_minor": 4
}
