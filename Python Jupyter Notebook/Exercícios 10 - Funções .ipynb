{
 "cells": [
  {
   "cell_type": "code",
   "execution_count": 2,
   "metadata": {},
   "outputs": [
    {
     "name": "stdout",
     "output_type": "stream",
     "text": [
      "16\n"
     ]
    }
   ],
   "source": [
    "def somar(x, y):\n",
    "    soma = x + y\n",
    "    return soma\n",
    "\n",
    "def subtrair(x, y):\n",
    "    subtraction = x - y\n",
    "    return subtraction \n",
    "\n",
    "resultado = somar(5, 6) + subtrair(10, 5)\n",
    "print(resultado)"
   ]
  },
  {
   "cell_type": "code",
   "execution_count": 6,
   "metadata": {},
   "outputs": [
    {
     "ename": "SyntaxError",
     "evalue": "invalid syntax (<ipython-input-6-93abe73909e8>, line 1)",
     "output_type": "error",
     "traceback": [
      "\u001b[1;36m  File \u001b[1;32m\"<ipython-input-6-93abe73909e8>\"\u001b[1;36m, line \u001b[1;32m1\u001b[0m\n\u001b[1;33m    import In [2]\u001b[0m\n\u001b[1;37m              ^\u001b[0m\n\u001b[1;31mSyntaxError\u001b[0m\u001b[1;31m:\u001b[0m invalid syntax\n"
     ]
    }
   ],
   "source": [
    "def lin():\n",
    "    print(\"-\"*30)\n",
    "    \n",
    "def msg(x):\n",
    "    lin()\n",
    "    print(f'{x:>20}')\n",
    "    lin()\n",
    "\n",
    "\n",
    "msg(\"Mensagem :)\")"
   ]
  },
  {
   "cell_type": "code",
   "execution_count": null,
   "metadata": {},
   "outputs": [],
   "source": [
    "def contador(*x):\n",
    "    print(f'Em tal sistema, possui-se {len(x)} coisas')\n",
    "x = {\"Champion\": \"Pyke\", \"Good?\": \"Yes\"}\n",
    "y = [1,2,3,4,5]\n",
    "z = (\"Eu\",\"Adoro\",\"Whey\",\"Protein\",\"De\",\"Baunilha\")\n",
    "contador(x, y, z, 7, 20, \"GG\", \"WP\")"
   ]
  },
  {
   "cell_type": "code",
   "execution_count": 61,
   "metadata": {},
   "outputs": [
    {
     "name": "stdout",
     "output_type": "stream",
     "text": [
      "[[], [{'Player': 'Noratus'}], []]\n",
      "[[{'Player': 'Pichara'}], [{'Player': 'Noratus'}], []]\n",
      "[[{'Player': 'Pichara'}], [{'Player': 'Noratus'}], [{'Player': 'TiãoRoque'}]]\n"
     ]
    }
   ],
   "source": [
    "#A Sytem that can input in a library in a list some things with a only function\n",
    "Files = [[],[],[]]\n",
    "def split_data(x,y,z):\n",
    "    Data = {x: y}\n",
    "    Files[z].append(Data)\n",
    "    print(Files)\n",
    "\n",
    "split_data(\"Player\",\"Noratus\",1)\n",
    "split_data(\"Player\",\"Pichara\",0)\n",
    "split_data(\"Player\",\"TiãoRoque\",2)"
   ]
  },
  {
   "cell_type": "code",
   "execution_count": 62,
   "metadata": {},
   "outputs": [
    {
     "name": "stdout",
     "output_type": "stream",
     "text": [
      "[2, 4, 6, 8, 10]\n"
     ]
    }
   ],
   "source": [
    "#A system that can double the nurmers of a list\n",
    "def double(x):\n",
    "    for i in range(len(x)):\n",
    "        x[i] = x[i]*2\n",
    "    print(x)\n",
    "Lista = [1,2,3,4,5]\n",
    "double(Lista)"
   ]
  },
  {
   "cell_type": "code",
   "execution_count": 4,
   "metadata": {},
   "outputs": [
    {
     "name": "stdout",
     "output_type": "stream",
     "text": [
      "Largura do terreno: 4.5\n",
      "Comprimento do terreno: 8.2\n",
      "A area de um terreno de 4.5x8.2 é 36.90m²\n"
     ]
    }
   ],
   "source": [
    "#A sytem that can Calcute a area\n",
    "def area(x,y):\n",
    "    z = x*y\n",
    "    print(f\"A area de um terreno de {x}x{y} é {z:.2f}m²\")\n",
    "a = float(input(\"Largura do terreno: \"))\n",
    "b = float(input(\"Comprimento do terreno: \"))\n",
    "area(a,b)"
   ]
  },
  {
   "cell_type": "code",
   "execution_count": null,
   "metadata": {},
   "outputs": [],
   "source": [
    "#A system that can put a word between proper lines\n",
    "def msg_between_lines(x):\n",
    "    y = len(x)\n",
    "    y = y + 10\n",
    "    print(\"-\"*y)\n",
    "    print(x.center(y))\n",
    "    print(\"-\"*y)\n",
    "    \n",
    "while True:\n",
    "    msg = input(\"Digite uma frase: \")\n",
    "    if msg == \"0\":\n",
    "        break\n",
    "    msg_between_lines(msg)"
   ]
  },
  {
   "cell_type": "code",
   "execution_count": 1,
   "metadata": {
    "scrolled": true
   },
   "outputs": [
    {
     "name": "stdout",
     "output_type": "stream",
     "text": [
      "=-=-=-=-=-=-=-=-=-=-=-=-=-=-=-=-=-=-=-=-=-=-=-=-=-=-=-=-=-=-\n",
      "Inicio: 100\n",
      "=-=-=-=-=-=-=-=-=-=-=-=-=-=-=-=-=-=-=-=-=-=-=-=-=-=-=-=-=-=-\n",
      "Fim: 50\n",
      "=-=-=-=-=-=-=-=-=-=-=-=-=-=-=-=-=-=-=-=-=-=-=-=-=-=-=-=-=-=-\n",
      "Razão: 5\n",
      "=-=-=-=-=-=-=-=-=-=-=-=-=-=-=-=-=-=-=-=-=-=-=-=-=-=-=-=-=-=-\n",
      "A P.A de 100 até 50 com razão 5: \n",
      "100 95 90 85 80 75 70 65 60 55 50 .\n",
      "Digite F to turn off: a\n",
      "=-=-=-=-=-=-=-=-=-=-=-=-=-=-=-=-=-=-=-=-=-=-=-=-=-=-=-=-=-=-\n",
      "Inicio: 1000\n",
      "=-=-=-=-=-=-=-=-=-=-=-=-=-=-=-=-=-=-=-=-=-=-=-=-=-=-=-=-=-=-\n",
      "Fim: 10000\n",
      "=-=-=-=-=-=-=-=-=-=-=-=-=-=-=-=-=-=-=-=-=-=-=-=-=-=-=-=-=-=-\n",
      "Razão: 500\n",
      "=-=-=-=-=-=-=-=-=-=-=-=-=-=-=-=-=-=-=-=-=-=-=-=-=-=-=-=-=-=-\n",
      "A P.A de 1000 até 10000 com razão 500: \n",
      "1000 1500 2000 2500 3000 3500 4000 4500 5000 5500 6000 6500 7000 7500 8000 8500 9000 9500 10000 .\n",
      "Digite F to turn off: F\n"
     ]
    }
   ],
   "source": [
    "#A system that can calculate a order of numbers in a sequence, by a function\n",
    "from time import sleep\n",
    "def sequence(x,y,z):\n",
    "    if y == x:\n",
    "        print(x, \".\")\n",
    "    \n",
    "    if z == 0:\n",
    "        z = 1\n",
    "    \n",
    "    if z < 0:\n",
    "        z = z - z*2\n",
    "    \n",
    "    if x < y:\n",
    "        for i in range(y-x):\n",
    "            sleep(0.2)\n",
    "            print(x, end = \" \")\n",
    "            x = x + z\n",
    "            if x >= y:\n",
    "                print(x, \".\")\n",
    "                break\n",
    "                \n",
    "    elif y < x:\n",
    "        for i in range(x-y):\n",
    "            sleep(0.2)\n",
    "            print(x, end = \" \")\n",
    "            x = x - z\n",
    "            if x <= y:\n",
    "                print(y,\".\")\n",
    "                break\n",
    "                \n",
    "def linha():\n",
    "    print(\"=-\"*30)\n",
    "\n",
    "while True:\n",
    "    while True:\n",
    "        linha()\n",
    "        try:\n",
    "            x = int(input(\"Inicio: \"))\n",
    "            break\n",
    "        except:\n",
    "            print(\"Only numbers pls...\")\n",
    "            continue\n",
    "    while True:\n",
    "        linha()\n",
    "        try:\n",
    "            y = int(input(\"Fim: \"))\n",
    "            break\n",
    "        except:\n",
    "            print(\"Only number pls...\")\n",
    "            continue\n",
    "    while True:\n",
    "        linha()\n",
    "        try:\n",
    "            z = int(input(\"Razão: \"))\n",
    "            break\n",
    "        except:\n",
    "            print(\"Only number pls...\")\n",
    "            continue\n",
    "    linha()\n",
    "    print(f\"A P.A de {x} até {y} com razão {z}: \")\n",
    "    sequence(x,y,z)\n",
    "    keep = input(\"Digite F to turn off: \")\n",
    "    if keep == \"F\":\n",
    "        break"
   ]
  },
  {
   "cell_type": "code",
   "execution_count": 33,
   "metadata": {},
   "outputs": [
    {
     "name": "stdout",
     "output_type": "stream",
     "text": [
      "Digite 3 Numeros, 1ª: 100000\n",
      "Digite 3 Numeros, 2ª: 10\n",
      "Digite 3 Numeros, 3ª: 10\n",
      "Maior Numero: 100000\n"
     ]
    }
   ],
   "source": [
    "#A program that can know by a function with one of the numbers are the bigger\n",
    "def maior(*x):\n",
    "    lista = []\n",
    "    for i in range(len(x)):\n",
    "        lista.append(x[i])\n",
    "    print(f\"Maior Numero: {max(lista)}\")\n",
    "\n",
    "x1 = int(input(f\"Digite 3 Numeros, 1ª: \"))\n",
    "x2 = int(input(f\"Digite 3 Numeros, 2ª: \"))\n",
    "x3 = int(input(f\"Digite 3 Numeros, 3ª: \"))\n",
    "\n",
    "maior(x1,x2,x3)\n",
    "    "
   ]
  },
  {
   "cell_type": "code",
   "execution_count": 53,
   "metadata": {},
   "outputs": [
    {
     "name": "stdout",
     "output_type": "stream",
     "text": [
      "Sorteando 5 valores na lista:  1 7 2 4 7 \n",
      "A soma de todos os pares de [1, 7, 2, 4, 7], é 6\n"
     ]
    }
   ],
   "source": [
    "#Random and plus a list with functions\n",
    "\n",
    "from random import randint\n",
    "from time import sleep\n",
    "\n",
    "lista = []\n",
    "def sortear_5(x):\n",
    "    print(\"Sorteando 5 valores na lista: \", end = \" \")\n",
    "    for i in range(5):\n",
    "        lista.append(randint(1,10))\n",
    "        print(lista[i], end = \" \")\n",
    "        sleep(0.2)\n",
    "    \n",
    "def Soma_par(x):\n",
    "    y = 0\n",
    "    for i in range(len(x)):\n",
    "        if x[i]%2 == 0:\n",
    "            y = y + x[i]\n",
    "    print(f\"\\nA soma de todos os pares de {x}, é {y}!\")\n",
    "\n",
    "sortear_5(lista)\n",
    "Soma_par(lista)"
   ]
  },
  {
   "cell_type": "code",
   "execution_count": 66,
   "metadata": {},
   "outputs": [
    {
     "name": "stdout",
     "output_type": "stream",
     "text": [
      "Ano de Nascimento:  2004\n",
      "Com 18 anos: VOTO OBRIGATORIO\n",
      "Press F to stop: a\n",
      "Ano de Nascimento:  1965\n",
      "Com 57 anos: VOTO OBRIGATORIO\n",
      "Press F to stop: a\n",
      "Ano de Nascimento:  1900\n",
      "Com 122 anos: VOTO OPICIONAL\n",
      "Press F to stop: a\n",
      "Only numbers pls...\n",
      "Only numbers pls...\n",
      "Ano de Nascimento:  1-\n",
      "Only numbers pls...\n",
      "Ano de Nascimento:  10\n",
      "Com 2012 anos: VOTO OPICIONAL\n",
      "Press F to stop: F\n"
     ]
    }
   ],
   "source": [
    "#A function (vote()) that can be inputed the year of nasciment of the people and return if you can vote\n",
    "from datetime import datetime\n",
    "def vote(x):\n",
    "    idade = datetime.now().year - x\n",
    "    if idade >= 18 and idade <= 64:\n",
    "        print(f\"Com {idade} anos: VOTO OBRIGATORIO\")\n",
    "    elif idade == 16 or idade == 17 or idade >= 65:\n",
    "        print(f\"Com {idade} anos: VOTO OPICIONAL\")\n",
    "    elif idade <= 15:\n",
    "              print(f\"Com {idade} anos: NÃO VOTA\")\n",
    "    else:\n",
    "        print(\"Erro\")\n",
    "while True:\n",
    "    try:\n",
    "        year = int(input(\"Ano de Nascimento:  \"))\n",
    "    except:\n",
    "        print(\"Only numbers pls...\")\n",
    "        continue\n",
    "    vote(year)\n",
    "    breaki = input(\"Press F to stop: \")\n",
    "    if breaki == \"F\":\n",
    "        break"
   ]
  },
  {
   "cell_type": "code",
   "execution_count": 90,
   "metadata": {},
   "outputs": [
    {
     "name": "stdout",
     "output_type": "stream",
     "text": [
      "5 x 4 x 3 x 2 x 1 = 120\n",
      "Help on function factorial in module __main__:\n",
      "\n",
      "factorial(n, show=False)\n",
      "    (n, show = false)\n",
      "    n = Real number, that will be the factored number\n",
      "    show = change to 'True' to show the calculation\n",
      "\n"
     ]
    }
   ],
   "source": [
    "#A function that make a factorial and show it if has \"True\" in the indice of the function\n",
    "from time import sleep\n",
    "\n",
    "def factorial(n, show=False):\n",
    "    \"\"\"\n",
    "    n = Real number, that will be the factored number\n",
    "    show = change to 'True' to show the calculation\n",
    "    \"\"\"\n",
    "    f = 1\n",
    "    for c in range(n, 0, -1):\n",
    "        sleep(0.33)\n",
    "        if show:\n",
    "            print(c, end=\"\")\n",
    "        if c > 1:\n",
    "            print(\" x \", end=\"\")\n",
    "        else:\n",
    "            print(\" = \", end=\"\")\n",
    "        f *= c\n",
    "    sleep(0.33)\n",
    "    print(f)\n",
    "\n",
    "factorial(5, True)\n",
    "help(factorial)"
   ]
  },
  {
   "cell_type": "code",
   "execution_count": 91,
   "metadata": {},
   "outputs": [
    {
     "name": "stdout",
     "output_type": "stream",
     "text": [
      "Name: rogerio\n",
      "Gols: \n",
      "O jogador rogerio marcou 0 gols no campeonato\n"
     ]
    }
   ],
   "source": [
    "#A funcition that will input the name and the gols of a soccer player, if not result, say it\n",
    "\n",
    "def player():\n",
    "    name = input(\"Name: \")\n",
    "    gols = input(\"Gols: \")\n",
    "    white = (\"                            \")\n",
    "    if gols in white:\n",
    "        gols = 0\n",
    "    if name in white:\n",
    "        name = \">unknown<\"\n",
    "    print(f\"O jogador {name} marcou {gols} gols no campeonato\")\n",
    "player()"
   ]
  },
  {
   "cell_type": "code",
   "execution_count": 2,
   "metadata": {},
   "outputs": [
    {
     "name": "stdout",
     "output_type": "stream",
     "text": [
      "Digite um numero: a\n",
      "\u001b[31mOnly numbers pls\u001b[0;0m\n",
      "Digite um numero: a\n",
      "\u001b[31mOnly numbers pls\u001b[0;0m\n",
      "Digite um numero: a\n",
      "\u001b[31mOnly numbers pls\u001b[0;0m\n",
      "Digite um numero: a\n",
      "\u001b[31mOnly numbers pls\u001b[0;0m\n",
      "Digite um numero: a\n",
      "\u001b[31mOnly numbers pls\u001b[0;0m\n",
      "Digite um numero: a10\n",
      "\u001b[31mOnly numbers pls\u001b[0;0m\n",
      "Digite um numero: a\n",
      "\u001b[31mOnly numbers pls\u001b[0;0m\n",
      "Digite um numero: 10\n",
      "10\n"
     ]
    }
   ],
   "source": [
    "#A function that can only input a number\n",
    "\n",
    "def red(x):\n",
    "    original = '\\033[0;0m'\n",
    "    red = '\\033[31m'\n",
    "    return(red + x + original)\n",
    "\n",
    "def readint(msg):\n",
    "    while True:\n",
    "        try:\n",
    "            x = int(input(msg))\n",
    "            return(x)\n",
    "            break\n",
    "        except:\n",
    "            print(red(\"Only numbers pls\"))\n",
    "            continue\n",
    "\n",
    "n = readint(\"Digite um numero: \")  \n",
    "print(n)"
   ]
  },
  {
   "cell_type": "code",
   "execution_count": null,
   "metadata": {},
   "outputs": [],
   "source": [
    "#Sistema de interective_help, to know what a something do\n",
    "\n",
    "def inter_line(msg):\n",
    "    y = len(msg) + 10\n",
    "    print(\"~\"*y)\n",
    "    print(msg.center(y))\n",
    "    print(\"~\"*y)\n",
    "    \n",
    "while True:\n",
    "    print(\"\\033[1;45m\")\n",
    "    inter_line(\"SYSTEM HELP\")\n",
    "    print(\"\"\"\n",
    "    Put down some command to know the things that it do\n",
    "    input...\n",
    "    len...\n",
    "    print...\n",
    "    while...\n",
    "    end - finish the program\"\"\")\n",
    "    print(\"~\"*55)\n",
    "    print((\"\\033[0;0m\"))    \n",
    "    what = input(\"Command or Library:  \")\n",
    "    if what.lower() == \"end\":\n",
    "        break\n",
    "    print(\"\\033[1;41m\")\n",
    "    print(help(what))\n",
    "    print(\"\\033[0;0m\")\n",
    "    \n",
    "        \n"
   ]
  },
  {
   "cell_type": "code",
   "execution_count": null,
   "metadata": {},
   "outputs": [],
   "source": []
  }
 ],
 "metadata": {
  "kernelspec": {
   "display_name": "Python 3",
   "language": "python",
   "name": "python3"
  },
  "language_info": {
   "codemirror_mode": {
    "name": "ipython",
    "version": 3
   },
   "file_extension": ".py",
   "mimetype": "text/x-python",
   "name": "python",
   "nbconvert_exporter": "python",
   "pygments_lexer": "ipython3",
   "version": "3.8.5"
  }
 },
 "nbformat": 4,
 "nbformat_minor": 4
}
