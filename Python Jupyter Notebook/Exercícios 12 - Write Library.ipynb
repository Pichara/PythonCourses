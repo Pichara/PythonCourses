{
 "cells": [
  {
   "cell_type": "code",
   "execution_count": null,
   "metadata": {},
   "outputs": [],
   "source": [
    "#COMO CRIAR E MODIFICAR ARQUIVOS\n",
    "'''\n",
    "\n",
    "'r' -> Usado para ler Algo\n",
    "'w' -> Usado para escrever algo(Cria arquivos tbm)\n",
    "'r+' -> Usado para Ler e escrever algo\n",
    "'a' -> Usado para acrescentar algo\n",
    "'''"
   ]
  },
  {
   "cell_type": "code",
   "execution_count": null,
   "metadata": {},
   "outputs": [
    {
     "name": "stdout",
     "output_type": "stream",
     "text": [
      "Write bellow what is the name that may be saved in the file:Rodrigo Pichara Gomes\n",
      "This was saved in the file with success\n",
      "\n",
      "=-=-=-=-=-=-=-=-=-=-=-=-=-=-=-=-=-=-=-=-=-=-=-=-=-=-=-=-=-=- =\n",
      "\n",
      "1 - Rodrigo\n",
      "\n",
      "2 - Rodrigo Pichara Gomes\n",
      "\n",
      "Write bellow what is the name that may be saved in the file:Jorge Pichara Gomes\n",
      "This was saved in the file with success\n",
      "\n",
      "=-=-=-=-=-=-=-=-=-=-=-=-=-=-=-=-=-=-=-=-=-=-=-=-=-=-=-=-=-=- =\n",
      "\n",
      "1 - Rodrigo\n",
      "\n",
      "2 - Rodrigo Pichara Gomes\n",
      "\n",
      "3 - Jorge Pichara Gomes\n",
      "\n"
     ]
    }
   ],
   "source": [
    "#Create a program that save some names that will be inputeds \n",
    "#I have continued in my archive in personal computer\n",
    "\n",
    "from time import sleep\n",
    "while True:\n",
    "    i = 0\n",
    "    Name = str(input(\"Write bellow what is the name that may be saved in the file:\"))\n",
    "    with open(\"Names_Exercicio_12\", \"a\") as arquivo:\n",
    "        arquivo.write(Name + \"\\n\")\n",
    "        print(\"This was saved in the file with success\\n\")\n",
    "        sleep(1)\n",
    "        print(\"=-\"*30,\"=\\n\")\n",
    "        sleep(1)\n",
    "    with open(\"Names_exercicio_12\", \"r\") as arquivo:\n",
    "        for names in arquivo:\n",
    "            i += 1\n",
    "            print(f\"{i} - {names}\")\n",
    "            \n",
    "        "
   ]
  },
  {
   "cell_type": "code",
   "execution_count": null,
   "metadata": {},
   "outputs": [],
   "source": []
  }
 ],
 "metadata": {
  "kernelspec": {
   "display_name": "Python 3",
   "language": "python",
   "name": "python3"
  },
  "language_info": {
   "codemirror_mode": {
    "name": "ipython",
    "version": 3
   },
   "file_extension": ".py",
   "mimetype": "text/x-python",
   "name": "python",
   "nbconvert_exporter": "python",
   "pygments_lexer": "ipython3",
   "version": "3.8.5"
  }
 },
 "nbformat": 4,
 "nbformat_minor": 4
}
