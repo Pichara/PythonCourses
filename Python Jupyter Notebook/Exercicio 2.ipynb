{
 "cells": [
  {
   "cell_type": "code",
   "execution_count": 2,
   "metadata": {},
   "outputs": [
    {
     "name": "stdout",
     "output_type": "stream",
     "text": [
      "Eu gosto de Banana porque é gostoso kekw\n"
     ]
    }
   ],
   "source": [
    "Fruta = \"Banana\"\n",
    "jogo = input(\"Qual jogo voce mais gosta\")\n",
    "print(\"Eu gosto de %s porque é gostoso kekw\" %Fruta)"
   ]
  },
  {
   "cell_type": "code",
   "execution_count": 3,
   "metadata": {},
   "outputs": [
    {
     "name": "stdout",
     "output_type": "stream",
     "text": [
      "O Rodrigo adora comer 2 Abacate por dia\n"
     ]
    }
   ],
   "source": [
    "Nome = input(\"Qual seu nome?\")\n",
    "Fruta = input(\"Qual fruta voce adora?\")\n",
    "Quantidade = input(\"Quantas dessas frutas você come?\")\n",
    "print(\"O {0} adora comer {2} {1} por dia\".format(Nome,Fruta,Quantidade))"
   ]
  }
 ],
 "metadata": {
  "kernelspec": {
   "display_name": "Python 3",
   "language": "python",
   "name": "python3"
  },
  "language_info": {
   "codemirror_mode": {
    "name": "ipython",
    "version": 3
   },
   "file_extension": ".py",
   "mimetype": "text/x-python",
   "name": "python",
   "nbconvert_exporter": "python",
   "pygments_lexer": "ipython3",
   "version": "3.11.3"
  }
 },
 "nbformat": 4,
 "nbformat_minor": 4
}
