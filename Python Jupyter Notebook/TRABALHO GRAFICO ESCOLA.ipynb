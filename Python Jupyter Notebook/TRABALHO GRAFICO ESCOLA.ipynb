{
 "cells": [
  {
   "cell_type": "code",
   "execution_count": 71,
   "metadata": {},
   "outputs": [
    {
     "name": "stdout",
     "output_type": "stream",
     "text": [
      "Quais são os numero de alunos: 204\n",
      "A porcemtagem é: 31.78\n",
      "O angulo no frafico é 114.39\n"
     ]
    }
   ],
   "source": [
    "import math\n",
    "#NO CASO ESSE EM ESPECIFICO È PARA UM DETERMINADO EXERCICIO\n",
    "A = float(input(\"Quais são os numero de alunos: \"))\n",
    "x = A*100/642\n",
    "y = 360*x/100\n",
    "print('A porcemtagem é: {:.2f}'.format(x))\n",
    "print(\"O angulo no grafico é {:.2f}\".format(y))"
   ]
  }
 ],
 "metadata": {
  "kernelspec": {
   "display_name": "Python 3",
   "language": "python",
   "name": "python3"
  },
  "language_info": {
   "codemirror_mode": {
    "name": "ipython",
    "version": 3
   },
   "file_extension": ".py",
   "mimetype": "text/x-python",
   "name": "python",
   "nbconvert_exporter": "python",
   "pygments_lexer": "ipython3",
   "version": "3.8.5"
  }
 },
 "nbformat": 4,
 "nbformat_minor": 4
}
