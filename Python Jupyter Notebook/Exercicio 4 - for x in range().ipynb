{
 "cells": [
  {
   "cell_type": "code",
   "execution_count": 19,
   "metadata": {},
   "outputs": [
    {
     "name": "stdout",
     "output_type": "stream",
     "text": [
      "Qual o 1ª peso: 72\n",
      "Qual o 2ª peso: 12\n",
      "Qual o 3ª peso: 35\n",
      "Qual o 4ª peso: 25\n",
      "Qual o 5ª peso: 829\n",
      "O peso maximo foi de 829.0kg\n",
      "O peso minimo foi de 12.0kg\n"
     ]
    }
   ],
   "source": [
    "#Programa que leia 5 pesos e mostre qual é o maior\n",
    "Lista = []\n",
    "for x in range(1,6):\n",
    "    y = float(input(\"Qual o {}ª peso: \".format(x)))\n",
    "    Lista += [y]\n",
    "print(\"O peso maximo foi de {}kg\".format(max(Lista)))\n",
    "print(\"O peso minimo foi de {}kg\".format(min(Lista))) "
   ]
  },
  {
   "cell_type": "code",
   "execution_count": 2,
   "metadata": {},
   "outputs": [
    {
     "name": "stdout",
     "output_type": "stream",
     "text": [
      "1 - Nasceu em 1919 e já é ADULTO :)\n",
      "2 - Nasceu em 1999 e já é ADULTO :)\n",
      "3 - Nasceu em 1999 e já é ADULTO :)\n",
      "4 - Nasceu em 1920 e já é ADULTO :)\n",
      "5 - Nasceu em 2000 e já é ADULTO :)\n",
      "6 - Nasceu em 2004 e não é um adulto :(\n",
      "7 - Nasceu em 2007 e não é um adulto :(\n"
     ]
    }
   ],
   "source": [
    "## UM PROGRAMA QUE LEIA O NOME DE 7 PESSOAS E MOSTRE O ANO EM QUE AS PESSOAS NASCERAM E QUAIS ESTÃO COM +18\n",
    "for x in range(1,8):\n",
    "    a = int(input(\"Ano de nascimento: \"))\n",
    "    y = a - 2021 \n",
    "    y *= -1\n",
    "    if y >= 18:\n",
    "        print(x,\"- Nasceu em {} e já é ADULTO :)\".format(a))\n",
    "    elif y <= 18:\n",
    "        print(x,\"- Nasceu em {} e não é um adulto :(\".format(a))\n"
   ]
  },
  {
   "cell_type": "code",
   "execution_count": 2,
   "metadata": {},
   "outputs": [
    {
     "name": "stdout",
     "output_type": "stream",
     "text": [
      "Digite o primeiro termo da PA: 9\n",
      "\n",
      "=========================\n",
      "Usando o termo da PA = 9\n",
      "=========================\n",
      "0 - 9\n",
      "1 - 18\n",
      "2 - 27\n",
      "3 - 36\n",
      "4 - 45\n",
      "5 - 54\n",
      "6 - 63\n",
      "7 - 72\n",
      "8 - 81\n",
      "9 - 90\n"
     ]
    }
   ],
   "source": [
    "### Um programa que faça uma progreção aritimetica ramdomica a partir de um primeiro termo\n",
    "from time import sleep\n",
    "from random import randint\n",
    "y = randint(1,9)\n",
    "a = int(input(\"Digite o primeiro termo da PA: \"))\n",
    "print(\"\"\"\n",
    "=========================\n",
    "Usando o termo da PA = {}\n",
    "=========================\"\"\".format(y))\n",
    "for x in range(0,10):\n",
    "    print(x,\"-\",a)\n",
    "    a += y\n",
    "    sleep(0.3)\n",
    "    "
   ]
  },
  {
   "cell_type": "code",
   "execution_count": 6,
   "metadata": {},
   "outputs": [
    {
     "name": "stdout",
     "output_type": "stream",
     "text": [
      "1\n",
      "2\n",
      "3\n",
      "4\n",
      "5  - UHULL A NEW YEAR\n",
      "6\n",
      "7\n",
      "8\n",
      "9\n",
      "10  - AEEEEE SOLTA OS FIREWORKS\n",
      "A HAPPY NEW YEAR TO EVERONE :)\n"
     ]
    }
   ],
   "source": [
    "#Fogos de artificio\n",
    "from time import sleep\n",
    "a = 1\n",
    "for x in range(0,10):\n",
    "    sleep(1)\n",
    "    if a == 5:\n",
    "        print( a,\" - UHULL A NEW YEAR\")\n",
    "    elif a == 10:\n",
    "        print(a,\" - AEEEEE SOLTA OS FIREWORKS\")\n",
    "    else:\n",
    "        print(a)\n",
    "    a += 1\n",
    "print(\"A HAPPY NEW YEAR TO EVERONE :)\")"
   ]
  },
  {
   "cell_type": "code",
   "execution_count": 24,
   "metadata": {},
   "outputs": [
    {
     "name": "stdout",
     "output_type": "stream",
     "text": [
      "\n",
      "=======================================      \n",
      "Fazemos tabuada aqui, escolha a tabuada :)\n",
      "=======================================\n",
      "Escolha a tabuada, que faremos ela até o 10: 8\n",
      "0\n",
      "8\n",
      "16\n",
      "24\n",
      "32\n",
      "40\n",
      "48\n",
      "56\n",
      "64\n",
      "72\n",
      "80\n",
      "======================================\n"
     ]
    }
   ],
   "source": [
    "#Programa que mostra a tabuada de um numero do 1 até o 10\n",
    "from time import sleep\n",
    "print(\"\"\"\n",
    "=======================================      \n",
    "Fazemos tabuada aqui, escolha a tabuada :)\n",
    "=======================================\"\"\")\n",
    "h = 1\n",
    "a = int(input(\"Escolha a tabuada, que faremos ela até o 10: \"))\n",
    "for x in range(0,11):\n",
    "    print(x * a)\n",
    "print(\"=\"*38)"
   ]
  }
 ],
 "metadata": {
  "kernelspec": {
   "display_name": "Python 3",
   "language": "python",
   "name": "python3"
  },
  "language_info": {
   "codemirror_mode": {
    "name": "ipython",
    "version": 3
   },
   "file_extension": ".py",
   "mimetype": "text/x-python",
   "name": "python",
   "nbconvert_exporter": "python",
   "pygments_lexer": "ipython3",
   "version": "3.11.3"
  }
 },
 "nbformat": 4,
 "nbformat_minor": 4
}
