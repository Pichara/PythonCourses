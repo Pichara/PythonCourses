{
 "cells": [
  {
   "cell_type": "code",
   "execution_count": 27,
   "metadata": {},
   "outputs": [
    {
     "name": "stdout",
     "output_type": "stream",
     "text": [
      "Eu vou comer Suco\n",
      "Eu vou comer Pudim\n",
      "Eu vou comer Hambuerguer\n",
      "Eu vou comer Pizza\n",
      "\n",
      "\n",
      "\n",
      "\n",
      "0 - Comi um Suco\n",
      "1 - Comi um Pudim\n",
      "2 - Comi um Hambuerguer\n",
      "3 - Comi um Pizza\n",
      "Comi Muito!\n",
      "\n",
      "\n",
      "\n",
      "\n",
      "(1, 9, 5, 2, 7, 8, 2, 1, 9, 6, 0)\n",
      "11\n",
      "1\n",
      "2\n"
     ]
    }
   ],
   "source": [
    "#Basicks - 1\n",
    "Lanche = \"Suco\", \"Pudim\" , \"Hambuerguer\", \"Pizza\"\n",
    "for comida in Lanche:\n",
    "    print(f\"Eu vou comer {comida}\")\n",
    "print(\"\\n\\n\\n\")\n",
    "#______________________________________________#   \n",
    "for x, comida in enumerate(Lanche):\n",
    "    print(f\"{x} - Comi um {comida}\")\n",
    "print(\"Comi Muito!\\n\\n\\n\\n\")\n",
    "#______________________________________________#\n",
    "a = (1, 9, 5, 2, 7)\n",
    "b = (8, 2, 1, 9, 6, 0)\n",
    "c = a + b\n",
    "print(c)\n",
    "print(len(c))\n",
    "print(c.count(7))\n",
    "print(c.index(5))"
   ]
  },
  {
   "cell_type": "code",
   "execution_count": 45,
   "metadata": {},
   "outputs": [
    {
     "name": "stdout",
     "output_type": "stream",
     "text": [
      "Digite um numero de 0 a 20: 21\n",
      "Por favor, digite apenas numeros de 0 a 20: 21\n",
      "Por favor, digite apenas numeros de 0 a 20: 21\n",
      "Por favor, digite apenas numeros de 0 a 20: 20\n",
      "Você digitou o numero Vinte\n"
     ]
    }
   ],
   "source": [
    "#Um programa que iria imputar um numero de 0 à 20 e mostrar tal numero por extenso\n",
    "extenso = \"Zero\", \"Um\", \"Dois\", \"Três\", \"Quatro\", \"Cinco\", \"Seis\", \"Sete\", \"Oito\", \"Nove\", \"Dez\", \"Onze\", \"Doze\", \"Treze\", \"Quatorze\", \"Quinze\", \"Dezeseis\", \"Dezesete\", \"Dezoito\", \"Dezenove\", \"Vinte\"\n",
    "number = int(input(\"Digite um numero de 0 a 20: \"))\n",
    "while True:\n",
    "    if number <= 20:\n",
    "        print(f\"Você digitou o numero {extenso[number]}\")\n",
    "        break\n",
    "    else:\n",
    "        number = int(input(\"Por favor, digite apenas numeros de 0 a 20: \"))"
   ]
  },
  {
   "cell_type": "code",
   "execution_count": 45,
   "metadata": {},
   "outputs": [
    {
     "name": "stdout",
     "output_type": "stream",
     "text": [
      "Os valores sorteados foram:  (10, 8, 9, 2, 6)\n",
      "O maior valor sorteado foi  10\n",
      "O menor valor sorteado foi  2\n"
     ]
    }
   ],
   "source": [
    "#Sortear 5 numeros e colocar dentro de uma tupla, depois informar qual o maior numero e menor numero\n",
    "from random import randint\n",
    "a = randint(1,10), randint(1,10), randint(1,10), randint(1,10), randint(1,10)\n",
    "maior = max(a)\n",
    "menor = min(a)\n",
    "print(\"Os valores sorteados foram: \", a)\n",
    "print(\"O maior valor sorteado foi \", maior)\n",
    "print(\"O menor valor sorteado foi \", menor)"
   ]
  },
  {
   "cell_type": "code",
   "execution_count": 65,
   "metadata": {},
   "outputs": [
    {
     "name": "stdout",
     "output_type": "stream",
     "text": [
      "Digite um Número: 2\n",
      "Digite outro Número: 4\n",
      "Digite mais um Número: 6\n",
      "Digite o último Número: 8\n",
      "Você digitou os numeros (2, 4, 6, 8)\n",
      "\n",
      "\n",
      "O valor 9 apareceu nenhuma vez\n",
      "Não foi digitado nenhum número 3\n",
      "Os numeros impares digitados foram [8, 6, 4, 2]\n"
     ]
    }
   ],
   "source": [
    "#A program that will input five numbers and show us some informations\n",
    "\n",
    "t1 = (int(input(\"Digite um Número: \")),\n",
    "      int(input(\"Digite outro Número: \")),\n",
    "      int(input(\"Digite mais um Número: \")),\n",
    "      int(input(\"Digite o último Número: \")))\n",
    "print(f\"Você digitou os numeros {t1}\\n\\n\")\n",
    "#Find how many times 9 has inputed in system\n",
    "f9 = t1.count(9)\n",
    "if 9 in t1 and f9 != 1:\n",
    "    print(f\"O valor 9 apareceu {f9} vezes\")\n",
    "elif f9 == 1:\n",
    "    print(f\"O valor 9 apareceu {f9} vez\")\n",
    "else:\n",
    "    print(\"O valor 9 apareceu nenhuma vez\")\n",
    "#To find in which position the 3 is :)\n",
    "if 3 in t1:\n",
    "    w3 = t1.index(3)\n",
    "    w3 += 1\n",
    "    print(f\"O numero 3 está na posição {w3}\")\n",
    "else:\n",
    "    print(\"Não foi digitado nenhum número 3\")\n",
    "#To find the even numbers\n",
    "x = 0\n",
    "lista = []\n",
    "for i in range(4):\n",
    "    if (t1[x]%2) == 0:\n",
    "        lista.insert(0, t1[x])\n",
    "        x += 1\n",
    "print(f\"Os numeros impares digitados foram {lista}\")"
   ]
  },
  {
   "cell_type": "code",
   "execution_count": 94,
   "metadata": {},
   "outputs": [
    {
     "name": "stdout",
     "output_type": "stream",
     "text": [
      "      CONTADOR DE VOGAIS SUPREMO     \n",
      "Na palavra batata temos ['', 'a']\n",
      "Na palavra caramelo temos ['']\n",
      "Na palavra league of legends temos ['']\n",
      "Na palavra obra temos ['']\n",
      "Na palavra whey protein temos ['']\n",
      "Na palavra muita agua temos ['']\n",
      "Na palavra teclado temos ['']\n",
      "Na palavra livros temos ['']\n",
      "Na palavra quadro temos ['']\n",
      "Na palavra banana temos ['']\n",
      "Na palavra cadernos temos ['']\n",
      "Na palavra mesa temos ['']\n",
      "Na palavra just this. temos ['']\n"
     ]
    }
   ],
   "source": [
    "#Um programa que leia uma tupla com varias palavras e mostre a vogal de todas\n",
    "x = 0\n",
    "y = []\n",
    "palavras = (\"batata\", \"caramelo\", \"league of legends\", \"obra\", \"whey protein\", \"muita agua\", \"teclado\", \"livros\", \"quadro\",\n",
    "            \"banana\", \"cadernos\", \"mesa\", \"just this.\")\n",
    "print(\"      CONTADOR DE VOGAIS SUPREMO     \")\n",
    "many = len(palavras)\n",
    "for i in range(many):\n",
    "    if \"a\" in palavras[x]:\n",
    "        a = palavras.count(\"a\")\n",
    "        y.insert(0, \"a \"*a)\n",
    "    elif \"e\" in palavras[x]:\n",
    "        e = palavras.count(\"e\")\n",
    "        y.insert(1, \"e \"*e)\n",
    "    elif \"i\" in palavras[x]:\n",
    "        i = palavras.count(\"i\")\n",
    "        y.insert(2, \"i \"*i)\n",
    "    elif \"o\" in palavras[x]:\n",
    "        o = palavras.count(\"o\")\n",
    "        y.insert(3, \"o \"*o)\n",
    "    elif \"u\" in palavras[x]:\n",
    "        u = palavras.count(\"u\")\n",
    "        y.insert(4, \"u \"*u)           \n",
    "    print(f\"Na palavra {palavras[x]} temos\", y)\n",
    "    y = []\n",
    "    x += 1"
   ]
  },
  {
   "cell_type": "code",
   "execution_count": null,
   "metadata": {},
   "outputs": [],
   "source": []
  }
 ],
 "metadata": {
  "kernelspec": {
   "display_name": "Python 3",
   "language": "python",
   "name": "python3"
  },
  "language_info": {
   "codemirror_mode": {
    "name": "ipython",
    "version": 3
   },
   "file_extension": ".py",
   "mimetype": "text/x-python",
   "name": "python",
   "nbconvert_exporter": "python",
   "pygments_lexer": "ipython3",
   "version": "3.8.5"
  }
 },
 "nbformat": 4,
 "nbformat_minor": 4
}
