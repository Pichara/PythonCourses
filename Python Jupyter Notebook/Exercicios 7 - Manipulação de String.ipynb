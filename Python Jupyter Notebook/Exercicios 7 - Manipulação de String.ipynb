{
 "cells": [
  {
   "cell_type": "code",
   "execution_count": 7,
   "metadata": {},
   "outputs": [
    {
     "name": "stdout",
     "output_type": "stream",
     "text": [
      "\n",
      "===========================\n",
      "Escolha a opção que deseja :)\n",
      " (1) - Minusculo\n",
      " (2) - Maisculo\n",
      "===========================\n",
      "Escolha seu modo aqui: 2\n",
      "Escolha a frase que deseja mudar: aaaaaaaaa\n",
      "AAAAAAAAA\n"
     ]
    }
   ],
   "source": [
    "#Um programa que transforme uma frase toda em minuscula ou maiscula\n",
    "print(\"\"\"\n",
    "===========================\n",
    "Escolha a opção que deseja :)\n",
    " (1) - Minusculo\n",
    " (2) - Maisculo\n",
    "===========================\"\"\")\n",
    "x = int(input(\"Escolha seu modo aqui: \"))\n",
    "y = str(input(\"Escolha a frase que deseja mudar: \"))\n",
    "if x == 1:\n",
    "    a = str(y.lower())\n",
    "    print(a)\n",
    "elif x == 2:\n",
    "    a = str(y.upper())\n",
    "    print(a)"
   ]
  },
  {
   "cell_type": "code",
   "execution_count": 29,
   "metadata": {
    "scrolled": true
   },
   "outputs": [
    {
     "name": "stdout",
     "output_type": "stream",
     "text": [
      "Digite uma frase: Adoro sua torta\n",
      "Quantas letras A existem nesta frase:  3\n",
      "O primeiro A que aparece na frase:  0\n",
      "Ultima vez que a letra A aparece na frase:  14\n"
     ]
    }
   ],
   "source": [
    "#Um programa que conta quantos \"A\" na frase, sua posição e sua ultima vez na frase\n",
    "Frase = str(input(\"Digite uma frase: \"))\n",
    "frase = str(Frase.lower())\n",
    "x = frase.count(\"a\")\n",
    "print(\"Quantas letras A existem nesta frase: \", x)\n",
    "print(\"O primeiro A que aparece na frase: \", frase.find(\"a\"))\n",
    "print(\"Ultima vez que a letra A aparece na frase: \", frase.rfind(\"a\"))"
   ]
  },
  {
   "cell_type": "code",
   "execution_count": 1,
   "metadata": {},
   "outputs": [
    {
     "name": "stdout",
     "output_type": "stream",
     "text": [
      "Digite o nome de uma pessoa: Roberto Carlos\n",
      "Primeiro nome:  Roberto\n",
      "Ultimo nome:  Carlos\n"
     ]
    }
   ],
   "source": [
    "#Um programa que leia um nome e mostre o primeiro e o ultima nome \n",
    "Nome = input(\"Digite o nome de uma pessoa: \")\n",
    "X = Nome.split()\n",
    "Z = int(len(X))\n",
    "Z1 = Z - 1\n",
    "print(\"Primeiro nome: \", X[0])\n",
    "print(\"Ultimo nome: \", X[Z1])"
   ]
  },
  {
   "cell_type": "code",
   "execution_count": null,
   "metadata": {},
   "outputs": [],
   "source": [
    "def red(x):\n",
    "    #https://wiki.python.org.br/CoresNoTerminal\n",
    "    original = '\\033[0;0m'\n",
    "    red = '\\033[31m'\n",
    "    return(red + x + original)"
   ]
  },
  {
   "cell_type": "code",
   "execution_count": 1,
   "metadata": {},
   "outputs": [
    {
     "name": "stdout",
     "output_type": "stream",
     "text": [
      "Esta frase possui... :  14\n",
      "A: 1 E: 1 I: 0 O: 3 U: 0\n",
      "i love potatos\n",
      "I LOVE POTATOS\n",
      "I love potatos\n",
      "YOU LOVE POTATOS\n",
      "WE LOVE POTATOS\n",
      "SHE LOVES POTATOS\n",
      "ALL LOVE POTATOS\n",
      "I-LOVE-POTATOS\n"
     ]
    }
   ],
   "source": [
    "#Aleatorie Things\n",
    "from time import sleep\n",
    "frase = \"I love Potatos\"\n",
    "Frase = frase.split()\n",
    "print(\"Esta frase possui... : \", len(frase))\n",
    "a = frase.count(\"a\")\n",
    "e = frase.count(\"e\")\n",
    "i = frase.count(\"i\")\n",
    "o = frase.count(\"o\")\n",
    "u = frase.count(\"u\")\n",
    "print(\"A: {} E: {} I: {} O: {} U: {}\".format(a,e,i,o,u))\n",
    "sleep(1)\n",
    "print(frase.lower())\n",
    "sleep(1)\n",
    "print(frase.upper())\n",
    "sleep(1)\n",
    "print(frase.capitalize())\n",
    "sleep(1)\n",
    "print(frase.replace(\"I\", \"You\").upper())\n",
    "sleep(1)\n",
    "print(frase.replace(\"I\", \"We\").upper())\n",
    "sleep(1)\n",
    "print(frase.replace(\"I\", \"she\").replace(\"love\", \"loves\").upper())\n",
    "sleep(1)\n",
    "print(frase.replace(\"I\", \"ALL\").upper())\n",
    "sleep(1)\n",
    "print(\"-\".join(Frase).upper())"
   ]
  },
  {
   "cell_type": "code",
   "execution_count": 71,
   "metadata": {},
   "outputs": [
    {
     "name": "stdout",
     "output_type": "stream",
     "text": [
      "| Nome           Elo            Nivel |\n",
      "| Rodrigo        Gold           500   |\n",
      "| Noratus        Prata          1000  |\n",
      "| x..............y..............z.....|\n"
     ]
    }
   ],
   "source": [
    "#Aleatorie Things 2\n",
    "data = [{\"Nome\":\"Rodrigo\", \"Elo\": \"Gold\", \"Nivel\": 500},{\"Nome\":\"Noratus\", \"Elo\": \"Prata\", \"Nivel\": 1000}]\n",
    "print(f'| {\"Nome\":<15}{\"Elo\":<15}{\"Nivel\":<6}|')\n",
    "for i in range(len(data)):\n",
    "    print(f'| {data[i][\"Nome\"]:<15}{data[i][\"Elo\"]:<15}{data[i][\"Nivel\"]:<6}|')\n",
    "print(\"| x..............y..............z.....|\")\n",
    "\n"
   ]
  },
  {
   "cell_type": "code",
   "execution_count": null,
   "metadata": {},
   "outputs": [],
   "source": [
    "Preto\t\\033[1;30m\t\\033[1;40m\n",
    "Vermelho\t\\033[1;31m\t\\033[1;41m\n",
    "Verde\t\\033[1;32m\t\\033[1;42m\n",
    "Amarelo\t\\033[1;33m\t\\033[1;43m\n",
    "Azul\t\\033[1;34m\t\\033[1;44m\n",
    "Magenta\t\\033[1;35m\t\\033[1;45m\n",
    "Cyan\t\\033[1;36m\t\\033[1;46m\n",
    "Cinza Claro\t\\033[1;37m\t\\033[1;47m\n",
    "Cinza Escuro\t\\033[1;90m\t\\033[1;100m\n",
    "Vermelho Claro\t\\033[1;91m\t\\033[1;101m\n",
    "Verde Claro\t\\033[1;92m\t\\033[1;102m\n",
    "Amarelo Claro\t\\033[1;93m\t\\033[1;103m\n",
    "Azul Claro\t\\033[1;94m\t\\033[1;104m\n",
    "Magenta Claro\t\\033[1;95m\t\\033[1;105m\n",
    "Cyan Claro\t\\033[1;96m\t\\033[1;106m\n",
    "Branco\t\\033[1;97m\t\\033[1;107m"
   ]
  }
 ],
 "metadata": {
  "kernelspec": {
   "display_name": "Python 3",
   "language": "python",
   "name": "python3"
  },
  "language_info": {
   "codemirror_mode": {
    "name": "ipython",
    "version": 3
   },
   "file_extension": ".py",
   "mimetype": "text/x-python",
   "name": "python",
   "nbconvert_exporter": "python",
   "pygments_lexer": "ipython3",
   "version": "3.8.5"
  }
 },
 "nbformat": 4,
 "nbformat_minor": 4
}
