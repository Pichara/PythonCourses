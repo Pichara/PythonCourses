{
 "cells": [
  {
   "cell_type": "code",
   "execution_count": 83,
   "metadata": {},
   "outputs": [
    {
     "name": "stdout",
     "output_type": "stream",
     "text": [
      "Qual sua comida favorita?bata\n",
      "Ahh legal... eu gosto de pizza :)\n"
     ]
    }
   ],
   "source": [
    "Comida = input(\"Qual sua comida favorita: \")\n",
    "if Comida == \"Pizza\":\n",
    "    print(\"Gosto de pizza tbm\")\n",
    "else:\n",
    "    print(\"Ahh legal... eu gosto de pizza :)\")\n"
   ]
  },
  {
   "cell_type": "code",
   "execution_count": 3,
   "metadata": {},
   "outputs": [
    {
     "name": "stdout",
     "output_type": "stream",
     "text": [
      "Qual comida voce mais gostaPizza\n",
      "Pizza é baum mesmo, porem calorico\n"
     ]
    }
   ],
   "source": [
    "Comida = input(\"Qual comida voce mais gosta: \")\n",
    "if Comida == \"Pizza\":\n",
    "    print(\"{} é baum mesmo, porem calorico\".format(Comida))\n",
    "elif Comida == \"Alface\":\n",
    "    print(\"{} faz bem pra saude mano, eu gosto com um molhinho em cima :)\".format(Comida))\n",
    "else:\n",
    "    print(\"Legal que voce goste de {} mano, mas eu apenas como alface ou pizza :)\".format(Comida))"
   ]
  },
  {
   "cell_type": "code",
   "execution_count": 10,
   "metadata": {},
   "outputs": [
    {
     "name": "stdout",
     "output_type": "stream",
     "text": [
      "Qual comida voce mais gostaBatatinha\n",
      " Po mano eu não gosto de Batatinha não vei, apenas como Pizza,Alface,Estrogonoffe ou um pão :)\n"
     ]
    }
   ],
   "source": [
    "Comida = input(\"Qual comida voce mais gosta: \")\n",
    "if Comida == \"Pizza\":\n",
    "    print(\"{} é baum mesmo, porem calorico\".format(Comida))\n",
    "elif Comida == \"Alface\":\n",
    "    print(\"{} faz bem pra saude mano, eu gosto com um molhinho em cima :)\".format(Comida))\n",
    "elif Comida == \"Pão\":\n",
    "    print(\"{} com manteiguinha é baum demais rapaiz\".format(Comida))\n",
    "elif Comida == \"Estrogonoffe\":\n",
    "    print(\"{} com arroz ainda, slk bixo baum demais\".format(Comida))\n",
    "else:\n",
    "    print(\" Po mano eu não gosto de {} não vei, apenas como Pizza,Alface,Estrogonoffe ou um pão :)\".format(Comida))"
   ]
  },
  {
   "cell_type": "code",
   "execution_count": 4,
   "metadata": {},
   "outputs": [
    {
     "name": "stdout",
     "output_type": "stream",
     "text": [
      "Qual sua idade?18\n",
      "Se é adulto ja rapaiz, congratulations\n"
     ]
    }
   ],
   "source": [
    "Idade = input(\"Qual sua idade: \")\n",
    "if Idade >= \"18\":\n",
    "    print(\"Se é adulto ja rapaiz, congratulations\")\n",
    "else:\n",
    "    print(\"Vc é menor de idade\")\n"
   ]
  },
  {
   "cell_type": "code",
   "execution_count": 62,
   "metadata": {},
   "outputs": [
    {
     "name": "stdout",
     "output_type": "stream",
     "text": [
      "\n",
      "---------------------------------------------------------\n",
      "|Vou pensar em um numero entre 0 e 5. Tente adivinhar...|\n",
      "--------------------------------------------------------- \n",
      "Em que numero eu pensei: 2\n",
      "Carregando...\n",
      "Vish ERROU KKKKK... EU PENSEI NO NUMERO: 0 :)\n",
      "TENTE OUTRA VEZ :0\n",
      "---------------------------FIM---------------------------\n"
     ]
    }
   ],
   "source": [
    "import random\n",
    "from time import sleep\n",
    "print(\n",
    "\"\"\"\n",
    "---------------------------------------------------------\n",
    "|Vou pensar em um numero entre 0 e 5. Tente adivinhar...|\n",
    "--------------------------------------------------------- \"\"\")\n",
    "x = random.randint(0,5)\n",
    "y = int(input(\"Em que numero eu pensei: \"))\n",
    "print(\"Carregando...\")\n",
    "sleep(2)\n",
    "\n",
    "if x == y:\n",
    "    print(\"PARABENS!!! VOCÊ ACERTOU O NUMERO QUE ESTAVA PENSANDO :0\")\n",
    "else:\n",
    "    print(\"Vish ERROU KKKKK... EU PENSEI NO NUMERO: {} :)\\nTENTE OUTRA VEZ :0\".format(x))\n",
    "print(\"---------------------------FIM---------------------------\")"
   ]
  },
  {
   "cell_type": "code",
   "execution_count": 7,
   "metadata": {},
   "outputs": [
    {
     "name": "stdout",
     "output_type": "stream",
     "text": [
      "\n",
      "=-=-=-=-=-=-=-=-=-=-=\n",
      "Sua opções:\n",
      "0 - Pedra\n",
      "1 - Papel\n",
      "2 - Tesoura \n",
      "=-=-=-=-=-=-=-=-=-=-=\n",
      "Eai, qual sua escolha: 1\n",
      "JO\n",
      "KEN\n",
      "PO!!\n",
      "Voce venceu :)\n",
      "\n",
      "=-=-=-=-=-=-=-=-=-=-=-=\n",
      "O computador jogou: Pedra\n",
      "Voce jogou: Papel \n",
      "=-=-=-=-=-=-=-=-=-=-=-=\n"
     ]
    }
   ],
   "source": [
    "#JOKENPO\n",
    "import random\n",
    "from time import sleep\n",
    "Itens = (\"Pedra\",\"Papel\",\"Tesoura\")\n",
    "y = random.randint(0,2)\n",
    "print(\n",
    "\"\"\"\n",
    "=-=-=-=-=-=-=-=-=-=-=\n",
    "Sua opções:\n",
    "0 - Pedra\n",
    "1 - Papel\n",
    "2 - Tesoura \n",
    "=-=-=-=-=-=-=-=-=-=-=\"\"\")\n",
    "x = int(input(\"Eai, qual sua escolha: \"))\n",
    "print(\"JO\")\n",
    "sleep(1)\n",
    "print(\"KEN\")\n",
    "sleep(1)\n",
    "print(\"PO!!\")\n",
    "sleep(1)\n",
    "if y == 0:\n",
    "    if x == 0:\n",
    "        print(\"EMPATE\")\n",
    "    elif x == 1:\n",
    "        print(\"Voce venceu :)\")\n",
    "    elif x == 2:\n",
    "        print(\"Voce perdeu :( \")\n",
    "    else:\n",
    "        print(\"Jogada invalida\")\n",
    "if y == 1:\n",
    "    if x == 0:\n",
    "        print(\"Voce ganhou\")\n",
    "    elif x == 1:\n",
    "        print(\"EMPATE\")\n",
    "    elif x == 2:\n",
    "        print(\"Computador ganhou\")\n",
    "    else:\n",
    "        print(\"Jogada invalida\")\n",
    "if y == 2:\n",
    "    if x == 0:\n",
    "        print(\"Computador venceu\")\n",
    "    elif x == 1:\n",
    "        print(\"Voce venceu :)\")\n",
    "    elif x == 2:\n",
    "        print(\"EMPATE\")\n",
    "    else:\n",
    "        print(\"Jogada invalida\")\n",
    "sleep(1)\n",
    "print(\"\"\"\n",
    "=-=-=-=-=-=-=-=-=-=-=-=\n",
    "O computador jogou: {}\n",
    "Voce jogou: {} \n",
    "=-=-=-=-=-=-=-=-=-=-=-=\"\"\".format(Itens[y],Itens[x]))"
   ]
  }
 ],
 "metadata": {
  "kernelspec": {
   "display_name": "Python 3",
   "language": "python",
   "name": "python3"
  },
  "language_info": {
   "codemirror_mode": {
    "name": "ipython",
    "version": 3
   },
   "file_extension": ".py",
   "mimetype": "text/x-python",
   "name": "python",
   "nbconvert_exporter": "python",
   "pygments_lexer": "ipython3",
   "version": "3.8.5"
  }
 },
 "nbformat": 4,
 "nbformat_minor": 4
}
